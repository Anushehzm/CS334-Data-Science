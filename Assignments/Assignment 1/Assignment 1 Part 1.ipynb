{
 "cells": [
  {
   "cell_type": "code",
   "execution_count": 1,
   "metadata": {},
   "outputs": [],
   "source": [
    "import numpy as np\n",
    "import pandas as pd\n",
    "import matplotlib.pyplot as plt\n",
    "%matplotlib inline\n",
    "import seaborn as sns\n",
    "sns.set()"
   ]
  },
  {
   "cell_type": "code",
   "execution_count": 2,
   "metadata": {},
   "outputs": [
    {
     "name": "stdout",
     "output_type": "stream",
     "text": [
      "(366, 23)\n"
     ]
    },
    {
     "data": {
      "text/html": [
       "<div>\n",
       "<style scoped>\n",
       "    .dataframe tbody tr th:only-of-type {\n",
       "        vertical-align: middle;\n",
       "    }\n",
       "\n",
       "    .dataframe tbody tr th {\n",
       "        vertical-align: top;\n",
       "    }\n",
       "\n",
       "    .dataframe thead th {\n",
       "        text-align: right;\n",
       "    }\n",
       "</style>\n",
       "<table border=\"1\" class=\"dataframe\">\n",
       "  <thead>\n",
       "    <tr style=\"text-align: right;\">\n",
       "      <th></th>\n",
       "      <th>CloudCover</th>\n",
       "      <th>Events</th>\n",
       "      <th>Max.Dew.PointF</th>\n",
       "      <th>Max.Gust.SpeedMPH</th>\n",
       "      <th>Max.Humidity</th>\n",
       "      <th>Max.Sea.Level.PressureIn</th>\n",
       "      <th>Max.TemperatureF</th>\n",
       "      <th>Max.VisibilityMiles</th>\n",
       "      <th>Max.Wind.SpeedMPH</th>\n",
       "      <th>Mean.Humidity</th>\n",
       "      <th>...</th>\n",
       "      <th>Mean.Wind.SpeedMPH</th>\n",
       "      <th>MeanDew.PointF</th>\n",
       "      <th>Min.DewpointF</th>\n",
       "      <th>Min.Humidity</th>\n",
       "      <th>Min.Sea.Level.PressureIn</th>\n",
       "      <th>Min.TemperatureF</th>\n",
       "      <th>Min.VisibilityMiles</th>\n",
       "      <th>PrecipitationIn</th>\n",
       "      <th>WindDirDegrees</th>\n",
       "      <th>Date</th>\n",
       "    </tr>\n",
       "  </thead>\n",
       "  <tbody>\n",
       "    <tr>\n",
       "      <th>0</th>\n",
       "      <td>'6'</td>\n",
       "      <td>'Rain'</td>\n",
       "      <td>'46'</td>\n",
       "      <td>'29'</td>\n",
       "      <td>'74'</td>\n",
       "      <td>'30.45'</td>\n",
       "      <td>'64'</td>\n",
       "      <td>'10'</td>\n",
       "      <td>'22'</td>\n",
       "      <td>'63'</td>\n",
       "      <td>...</td>\n",
       "      <td>'13'</td>\n",
       "      <td>'40'</td>\n",
       "      <td>'26'</td>\n",
       "      <td>'52'</td>\n",
       "      <td>'30.01'</td>\n",
       "      <td>'39'</td>\n",
       "      <td>'10'</td>\n",
       "      <td>'0.01'</td>\n",
       "      <td>'268'</td>\n",
       "      <td>Year: 2014 Month: 12 Day: 1</td>\n",
       "    </tr>\n",
       "    <tr>\n",
       "      <th>1</th>\n",
       "      <td>'7'</td>\n",
       "      <td>'Rain-Snow'</td>\n",
       "      <td>'40'</td>\n",
       "      <td>'29'</td>\n",
       "      <td>'92'</td>\n",
       "      <td>'30.71'</td>\n",
       "      <td>'42'</td>\n",
       "      <td>'10'</td>\n",
       "      <td>'24'</td>\n",
       "      <td>'72'</td>\n",
       "      <td>...</td>\n",
       "      <td>'15'</td>\n",
       "      <td>'27'</td>\n",
       "      <td>'17'</td>\n",
       "      <td>'51'</td>\n",
       "      <td>'30.4'</td>\n",
       "      <td>'33'</td>\n",
       "      <td>'2'</td>\n",
       "      <td>'0.10'</td>\n",
       "      <td>'62'</td>\n",
       "      <td>Year: 2014 Month: 12 Day: 2</td>\n",
       "    </tr>\n",
       "    <tr>\n",
       "      <th>2</th>\n",
       "      <td>'8'</td>\n",
       "      <td>'Rain'</td>\n",
       "      <td>'49'</td>\n",
       "      <td>'38'</td>\n",
       "      <td>'100'</td>\n",
       "      <td>'30.4'</td>\n",
       "      <td>'51'</td>\n",
       "      <td>'10'</td>\n",
       "      <td>'29'</td>\n",
       "      <td>'79'</td>\n",
       "      <td>...</td>\n",
       "      <td>'12'</td>\n",
       "      <td>'42'</td>\n",
       "      <td>'24'</td>\n",
       "      <td>'57'</td>\n",
       "      <td>'29.87'</td>\n",
       "      <td>'37'</td>\n",
       "      <td>'1'</td>\n",
       "      <td>'0.44'</td>\n",
       "      <td>'254'</td>\n",
       "      <td>Year: 2014 Month: 12 Day: 3</td>\n",
       "    </tr>\n",
       "    <tr>\n",
       "      <th>3</th>\n",
       "      <td>'3'</td>\n",
       "      <td>NaN</td>\n",
       "      <td>'24'</td>\n",
       "      <td>'33'</td>\n",
       "      <td>'69'</td>\n",
       "      <td>'30.56'</td>\n",
       "      <td>'43'</td>\n",
       "      <td>'10'</td>\n",
       "      <td>'25'</td>\n",
       "      <td>'54'</td>\n",
       "      <td>...</td>\n",
       "      <td>'12'</td>\n",
       "      <td>'21'</td>\n",
       "      <td>'13'</td>\n",
       "      <td>'39'</td>\n",
       "      <td>'30.09'</td>\n",
       "      <td>'30'</td>\n",
       "      <td>'10'</td>\n",
       "      <td>'0.00'</td>\n",
       "      <td>'292'</td>\n",
       "      <td>Year: 2014 Month: 12 Day: 4</td>\n",
       "    </tr>\n",
       "    <tr>\n",
       "      <th>4</th>\n",
       "      <td>'5'</td>\n",
       "      <td>'Rain'</td>\n",
       "      <td>'37'</td>\n",
       "      <td>'26'</td>\n",
       "      <td>'85'</td>\n",
       "      <td>'30.68'</td>\n",
       "      <td>'42'</td>\n",
       "      <td>'10'</td>\n",
       "      <td>'22'</td>\n",
       "      <td>'66'</td>\n",
       "      <td>...</td>\n",
       "      <td>'10'</td>\n",
       "      <td>'25'</td>\n",
       "      <td>'12'</td>\n",
       "      <td>'47'</td>\n",
       "      <td>'30.45'</td>\n",
       "      <td>'26'</td>\n",
       "      <td>'5'</td>\n",
       "      <td>'0.11'</td>\n",
       "      <td>'61'</td>\n",
       "      <td>Year: 2014 Month: 12 Day: 5</td>\n",
       "    </tr>\n",
       "  </tbody>\n",
       "</table>\n",
       "<p>5 rows × 23 columns</p>\n",
       "</div>"
      ],
      "text/plain": [
       "  CloudCover       Events Max.Dew.PointF Max.Gust.SpeedMPH Max.Humidity  \\\n",
       "0        '6'       'Rain'           '46'              '29'         '74'   \n",
       "1        '7'  'Rain-Snow'           '40'              '29'         '92'   \n",
       "2        '8'       'Rain'           '49'              '38'        '100'   \n",
       "3        '3'          NaN           '24'              '33'         '69'   \n",
       "4        '5'       'Rain'           '37'              '26'         '85'   \n",
       "\n",
       "  Max.Sea.Level.PressureIn Max.TemperatureF Max.VisibilityMiles  \\\n",
       "0                  '30.45'             '64'                '10'   \n",
       "1                  '30.71'             '42'                '10'   \n",
       "2                   '30.4'             '51'                '10'   \n",
       "3                  '30.56'             '43'                '10'   \n",
       "4                  '30.68'             '42'                '10'   \n",
       "\n",
       "  Max.Wind.SpeedMPH Mean.Humidity             ...               \\\n",
       "0              '22'          '63'             ...                \n",
       "1              '24'          '72'             ...                \n",
       "2              '29'          '79'             ...                \n",
       "3              '25'          '54'             ...                \n",
       "4              '22'          '66'             ...                \n",
       "\n",
       "  Mean.Wind.SpeedMPH MeanDew.PointF Min.DewpointF Min.Humidity  \\\n",
       "0               '13'           '40'          '26'         '52'   \n",
       "1               '15'           '27'          '17'         '51'   \n",
       "2               '12'           '42'          '24'         '57'   \n",
       "3               '12'           '21'          '13'         '39'   \n",
       "4               '10'           '25'          '12'         '47'   \n",
       "\n",
       "  Min.Sea.Level.PressureIn Min.TemperatureF Min.VisibilityMiles  \\\n",
       "0                  '30.01'             '39'                '10'   \n",
       "1                   '30.4'             '33'                 '2'   \n",
       "2                  '29.87'             '37'                 '1'   \n",
       "3                  '30.09'             '30'                '10'   \n",
       "4                  '30.45'             '26'                 '5'   \n",
       "\n",
       "  PrecipitationIn WindDirDegrees                         Date  \n",
       "0          '0.01'          '268'  Year: 2014 Month: 12 Day: 1  \n",
       "1          '0.10'           '62'  Year: 2014 Month: 12 Day: 2  \n",
       "2          '0.44'          '254'  Year: 2014 Month: 12 Day: 3  \n",
       "3          '0.00'          '292'  Year: 2014 Month: 12 Day: 4  \n",
       "4          '0.11'           '61'  Year: 2014 Month: 12 Day: 5  \n",
       "\n",
       "[5 rows x 23 columns]"
      ]
     },
     "execution_count": 2,
     "metadata": {},
     "output_type": "execute_result"
    }
   ],
   "source": [
    "df = pd.read_csv('weather_start.csv')\n",
    "print(df.shape)\n",
    "df.head()"
   ]
  },
  {
   "cell_type": "markdown",
   "metadata": {},
   "source": [
    "<div style=\"color: pink; \n",
    "            background-color: #b73239;\n",
    "            border-radius: 5px;\n",
    "            padding: 5px 5px 5px 5px;\n",
    "            display: inline-block\">\n",
    "    If you get a `SettingWithCopyWarning:` when using pandas, you can almost always ignore it. \n",
    "</div>"
   ]
  },
  {
   "cell_type": "markdown",
   "metadata": {},
   "source": [
    "This dataframe has a lot of problems regarding the quality of the data. As the name suggests the dataset describes various weather related measurements taken over a period of time. We can see the `Date` column has this information in a weird text-based style. Then you have individual weather related measurements (`Max.TemperatureF`, `Max.Dew.PointF` etc) but the values of these columns have quotes around them ('') so these need to be cleaned and converted to the correct type. \n",
    "\n",
    "So the first order of business is to parse the `Date` column and obtain separate year, month and day columns as integer values. You will use regex for this, the regex extract function is available in the `.str` accessor. Then you will combine these three columns using `pd.to_datetime` to create a datetime column which is a special type in pandas. It gives you some amazing funcitonality which is available through the `.dt` accessor (on a pandas series of the correct type only). \n",
    "\n",
    "For the weather related columns you need to fix the types (converting them all to float is very easy even though some of them should technically be ints). The simple pandas way of converting column types using `.astype` will not work because of the quotes. So you will need to remove them first using the `.str` accessor on all the columns and then use `.astype` (for-loops are your friends).\n",
    "\n",
    "Then, you can start the process of data cleaning and exploration as these two things go hand-in-hand. Look for missing values and outliers. You can use different methods to find these problem points, visual methods like plots or analytical methods like summary statistics. You should also keep an eye out for inconsistent encodings. These are more common in categorical variables like a column describing gender has both full words (female, male) and letters (f, m). You will need to properly standardise this issue. Another source of these inconsistencies is when recording a numeric variable like age the person might enter a question mark (?) or the letter (x) to mark the value as missing. Pandas might not detect this as a missing value and simply running `df.isna().sum()` will give you a false image of the data's quality. For this case you will have to manually replace these rogue characters with `np.NaN` and then use your preferred method of imputation."
   ]
  },
  {
   "cell_type": "code",
   "execution_count": 3,
   "metadata": {},
   "outputs": [
    {
     "data": {
      "text/plain": [
       "CloudCover                   object\n",
       "Events                       object\n",
       "Max.Dew.PointF               object\n",
       "Max.Gust.SpeedMPH            object\n",
       "Max.Humidity                 object\n",
       "Max.Sea.Level.PressureIn     object\n",
       "Max.TemperatureF             object\n",
       "Max.VisibilityMiles          object\n",
       "Max.Wind.SpeedMPH            object\n",
       "Mean.Humidity                object\n",
       "Mean.Sea.Level.PressureIn    object\n",
       "Mean.TemperatureF            object\n",
       "Mean.VisibilityMiles         object\n",
       "Mean.Wind.SpeedMPH           object\n",
       "MeanDew.PointF               object\n",
       "Min.DewpointF                object\n",
       "Min.Humidity                 object\n",
       "Min.Sea.Level.PressureIn     object\n",
       "Min.TemperatureF             object\n",
       "Min.VisibilityMiles          object\n",
       "PrecipitationIn              object\n",
       "WindDirDegrees               object\n",
       "Date                         object\n",
       "dtype: object"
      ]
     },
     "execution_count": 3,
     "metadata": {},
     "output_type": "execute_result"
    }
   ],
   "source": [
    "df.dtypes"
   ]
  },
  {
   "cell_type": "markdown",
   "metadata": {},
   "source": [
    "Everything is a string. This is a sign of a long day of data cleaning ahead. Good Luck!"
   ]
  },
  {
   "cell_type": "code",
   "execution_count": 4,
   "metadata": {},
   "outputs": [
    {
     "data": {
      "text/html": [
       "<div>\n",
       "<style scoped>\n",
       "    .dataframe tbody tr th:only-of-type {\n",
       "        vertical-align: middle;\n",
       "    }\n",
       "\n",
       "    .dataframe tbody tr th {\n",
       "        vertical-align: top;\n",
       "    }\n",
       "\n",
       "    .dataframe thead th {\n",
       "        text-align: right;\n",
       "    }\n",
       "</style>\n",
       "<table border=\"1\" class=\"dataframe\">\n",
       "  <thead>\n",
       "    <tr style=\"text-align: right;\">\n",
       "      <th></th>\n",
       "      <th>CloudCover</th>\n",
       "      <th>Events</th>\n",
       "      <th>Max.Dew.PointF</th>\n",
       "      <th>Max.Gust.SpeedMPH</th>\n",
       "      <th>Max.Humidity</th>\n",
       "      <th>Max.Sea.Level.PressureIn</th>\n",
       "      <th>Max.TemperatureF</th>\n",
       "      <th>Max.VisibilityMiles</th>\n",
       "      <th>Max.Wind.SpeedMPH</th>\n",
       "      <th>Mean.Humidity</th>\n",
       "      <th>...</th>\n",
       "      <th>Min.DewpointF</th>\n",
       "      <th>Min.Humidity</th>\n",
       "      <th>Min.Sea.Level.PressureIn</th>\n",
       "      <th>Min.TemperatureF</th>\n",
       "      <th>Min.VisibilityMiles</th>\n",
       "      <th>PrecipitationIn</th>\n",
       "      <th>WindDirDegrees</th>\n",
       "      <th>Year</th>\n",
       "      <th>Month</th>\n",
       "      <th>Day</th>\n",
       "    </tr>\n",
       "  </thead>\n",
       "  <tbody>\n",
       "    <tr>\n",
       "      <th>0</th>\n",
       "      <td>'6'</td>\n",
       "      <td>'Rain'</td>\n",
       "      <td>'46'</td>\n",
       "      <td>'29'</td>\n",
       "      <td>'74'</td>\n",
       "      <td>'30.45'</td>\n",
       "      <td>'64'</td>\n",
       "      <td>'10'</td>\n",
       "      <td>'22'</td>\n",
       "      <td>'63'</td>\n",
       "      <td>...</td>\n",
       "      <td>'26'</td>\n",
       "      <td>'52'</td>\n",
       "      <td>'30.01'</td>\n",
       "      <td>'39'</td>\n",
       "      <td>'10'</td>\n",
       "      <td>'0.01'</td>\n",
       "      <td>'268'</td>\n",
       "      <td>2014</td>\n",
       "      <td>12</td>\n",
       "      <td>1</td>\n",
       "    </tr>\n",
       "    <tr>\n",
       "      <th>1</th>\n",
       "      <td>'7'</td>\n",
       "      <td>'Rain-Snow'</td>\n",
       "      <td>'40'</td>\n",
       "      <td>'29'</td>\n",
       "      <td>'92'</td>\n",
       "      <td>'30.71'</td>\n",
       "      <td>'42'</td>\n",
       "      <td>'10'</td>\n",
       "      <td>'24'</td>\n",
       "      <td>'72'</td>\n",
       "      <td>...</td>\n",
       "      <td>'17'</td>\n",
       "      <td>'51'</td>\n",
       "      <td>'30.4'</td>\n",
       "      <td>'33'</td>\n",
       "      <td>'2'</td>\n",
       "      <td>'0.10'</td>\n",
       "      <td>'62'</td>\n",
       "      <td>2014</td>\n",
       "      <td>12</td>\n",
       "      <td>2</td>\n",
       "    </tr>\n",
       "    <tr>\n",
       "      <th>2</th>\n",
       "      <td>'8'</td>\n",
       "      <td>'Rain'</td>\n",
       "      <td>'49'</td>\n",
       "      <td>'38'</td>\n",
       "      <td>'100'</td>\n",
       "      <td>'30.4'</td>\n",
       "      <td>'51'</td>\n",
       "      <td>'10'</td>\n",
       "      <td>'29'</td>\n",
       "      <td>'79'</td>\n",
       "      <td>...</td>\n",
       "      <td>'24'</td>\n",
       "      <td>'57'</td>\n",
       "      <td>'29.87'</td>\n",
       "      <td>'37'</td>\n",
       "      <td>'1'</td>\n",
       "      <td>'0.44'</td>\n",
       "      <td>'254'</td>\n",
       "      <td>2014</td>\n",
       "      <td>12</td>\n",
       "      <td>3</td>\n",
       "    </tr>\n",
       "    <tr>\n",
       "      <th>3</th>\n",
       "      <td>'3'</td>\n",
       "      <td>NaN</td>\n",
       "      <td>'24'</td>\n",
       "      <td>'33'</td>\n",
       "      <td>'69'</td>\n",
       "      <td>'30.56'</td>\n",
       "      <td>'43'</td>\n",
       "      <td>'10'</td>\n",
       "      <td>'25'</td>\n",
       "      <td>'54'</td>\n",
       "      <td>...</td>\n",
       "      <td>'13'</td>\n",
       "      <td>'39'</td>\n",
       "      <td>'30.09'</td>\n",
       "      <td>'30'</td>\n",
       "      <td>'10'</td>\n",
       "      <td>'0.00'</td>\n",
       "      <td>'292'</td>\n",
       "      <td>2014</td>\n",
       "      <td>12</td>\n",
       "      <td>4</td>\n",
       "    </tr>\n",
       "    <tr>\n",
       "      <th>4</th>\n",
       "      <td>'5'</td>\n",
       "      <td>'Rain'</td>\n",
       "      <td>'37'</td>\n",
       "      <td>'26'</td>\n",
       "      <td>'85'</td>\n",
       "      <td>'30.68'</td>\n",
       "      <td>'42'</td>\n",
       "      <td>'10'</td>\n",
       "      <td>'22'</td>\n",
       "      <td>'66'</td>\n",
       "      <td>...</td>\n",
       "      <td>'12'</td>\n",
       "      <td>'47'</td>\n",
       "      <td>'30.45'</td>\n",
       "      <td>'26'</td>\n",
       "      <td>'5'</td>\n",
       "      <td>'0.11'</td>\n",
       "      <td>'61'</td>\n",
       "      <td>2014</td>\n",
       "      <td>12</td>\n",
       "      <td>5</td>\n",
       "    </tr>\n",
       "  </tbody>\n",
       "</table>\n",
       "<p>5 rows × 25 columns</p>\n",
       "</div>"
      ],
      "text/plain": [
       "  CloudCover       Events Max.Dew.PointF Max.Gust.SpeedMPH Max.Humidity  \\\n",
       "0        '6'       'Rain'           '46'              '29'         '74'   \n",
       "1        '7'  'Rain-Snow'           '40'              '29'         '92'   \n",
       "2        '8'       'Rain'           '49'              '38'        '100'   \n",
       "3        '3'          NaN           '24'              '33'         '69'   \n",
       "4        '5'       'Rain'           '37'              '26'         '85'   \n",
       "\n",
       "  Max.Sea.Level.PressureIn Max.TemperatureF Max.VisibilityMiles  \\\n",
       "0                  '30.45'             '64'                '10'   \n",
       "1                  '30.71'             '42'                '10'   \n",
       "2                   '30.4'             '51'                '10'   \n",
       "3                  '30.56'             '43'                '10'   \n",
       "4                  '30.68'             '42'                '10'   \n",
       "\n",
       "  Max.Wind.SpeedMPH Mean.Humidity ... Min.DewpointF Min.Humidity  \\\n",
       "0              '22'          '63' ...          '26'         '52'   \n",
       "1              '24'          '72' ...          '17'         '51'   \n",
       "2              '29'          '79' ...          '24'         '57'   \n",
       "3              '25'          '54' ...          '13'         '39'   \n",
       "4              '22'          '66' ...          '12'         '47'   \n",
       "\n",
       "  Min.Sea.Level.PressureIn Min.TemperatureF Min.VisibilityMiles  \\\n",
       "0                  '30.01'             '39'                '10'   \n",
       "1                   '30.4'             '33'                 '2'   \n",
       "2                  '29.87'             '37'                 '1'   \n",
       "3                  '30.09'             '30'                '10'   \n",
       "4                  '30.45'             '26'                 '5'   \n",
       "\n",
       "  PrecipitationIn WindDirDegrees  Year Month Day  \n",
       "0          '0.01'          '268'  2014    12   1  \n",
       "1          '0.10'           '62'  2014    12   2  \n",
       "2          '0.44'          '254'  2014    12   3  \n",
       "3          '0.00'          '292'  2014    12   4  \n",
       "4          '0.11'           '61'  2014    12   5  \n",
       "\n",
       "[5 rows x 25 columns]"
      ]
     },
     "execution_count": 4,
     "metadata": {},
     "output_type": "execute_result"
    }
   ],
   "source": [
    "df['Year'] = df['Date'].str.extract(r'Year: (\\d+).*')\n",
    "df['Month'] = df['Date'].str.extract(r'.*Month: (\\d+).*')\n",
    "df['Day'] = df['Date'].str.extract(r'.*Day: (\\d+).*')\n",
    "df.drop('Date', axis=1, inplace=True)\n",
    "df.head()"
   ]
  },
  {
   "cell_type": "code",
   "execution_count": 5,
   "metadata": {},
   "outputs": [],
   "source": [
    "df['Date'] = pd.to_datetime(df[['Year','Month','Day']])\n",
    "df.drop(['Year','Month','Day'], axis=1, inplace=True)\n",
    "\n",
    "# Reorder columns to bring date to left-most position\n",
    "# cols = df.columns.tolist()\n",
    "# df = df[[cols[-1]] + cols[:-1]]\n",
    "\n",
    "# df.head()"
   ]
  },
  {
   "cell_type": "markdown",
   "metadata": {},
   "source": [
    "Everything is a string, that means encoding issues can be present. A simple way to detect these is to try to convert string columns to numbers and if there is an entry like a rogue question mark or an 'x', python will raise an exception. Don't forget about dealing with the quotes around the values. "
   ]
  },
  {
   "cell_type": "markdown",
   "metadata": {},
   "source": [
    "`Events` has missing values and we can deal with them later so we will postpone changing the type from string to categorical for now. (Imputing values in a category-types column is a little awkward syntactically)\n",
    "The rest of the columns can be represented as floats. The for-loop will fail with an exception when it encounters a problematic column. \n",
    "\n",
    "Apparently the `PrecipitationIn` column contains a string \"'T'\". This represents a trace amount of rain so we can replace this with a 0 without any problems. Fixing this results makes  the for-loop finish without any problems.  "
   ]
  },
  {
   "cell_type": "code",
   "execution_count": 6,
   "metadata": {},
   "outputs": [
    {
     "name": "stderr",
     "output_type": "stream",
     "text": [
      "C:\\Users\\tooba\\Anaconda3\\lib\\site-packages\\ipykernel_launcher.py:2: SettingWithCopyWarning: \n",
      "A value is trying to be set on a copy of a slice from a DataFrame\n",
      "\n",
      "See the caveats in the documentation: http://pandas.pydata.org/pandas-docs/stable/indexing.html#indexing-view-versus-copy\n",
      "  \n"
     ]
    }
   ],
   "source": [
    "# df['Events'] = df['Events'].astype('category')\n",
    "df['PrecipitationIn'][df['PrecipitationIn'] == \"'T'\"] = 0\n",
    "\n",
    "#converting data types of numeric columns. Excluding the quotes and then converting types.\n",
    "for c in df.columns:\n",
    "    if c in ['Date','Events']:\n",
    "        continue\n",
    "    df[c] = df[c].str[1:-1].astype('float')"
   ]
  },
  {
   "cell_type": "code",
   "execution_count": 7,
   "metadata": {},
   "outputs": [
    {
     "data": {
      "text/plain": [
       "CloudCover                          float64\n",
       "Events                               object\n",
       "Max.Dew.PointF                      float64\n",
       "Max.Gust.SpeedMPH                   float64\n",
       "Max.Humidity                        float64\n",
       "Max.Sea.Level.PressureIn            float64\n",
       "Max.TemperatureF                    float64\n",
       "Max.VisibilityMiles                 float64\n",
       "Max.Wind.SpeedMPH                   float64\n",
       "Mean.Humidity                       float64\n",
       "Mean.Sea.Level.PressureIn           float64\n",
       "Mean.TemperatureF                   float64\n",
       "Mean.VisibilityMiles                float64\n",
       "Mean.Wind.SpeedMPH                  float64\n",
       "MeanDew.PointF                      float64\n",
       "Min.DewpointF                       float64\n",
       "Min.Humidity                        float64\n",
       "Min.Sea.Level.PressureIn            float64\n",
       "Min.TemperatureF                    float64\n",
       "Min.VisibilityMiles                 float64\n",
       "PrecipitationIn                     float64\n",
       "WindDirDegrees                      float64\n",
       "Date                         datetime64[ns]\n",
       "dtype: object"
      ]
     },
     "execution_count": 7,
     "metadata": {},
     "output_type": "execute_result"
    }
   ],
   "source": [
    "df.dtypes"
   ]
  },
  {
   "cell_type": "code",
   "execution_count": 8,
   "metadata": {},
   "outputs": [
    {
     "data": {
      "text/plain": [
       "CloudCover                     0\n",
       "Events                       201\n",
       "Max.Dew.PointF                 0\n",
       "Max.Gust.SpeedMPH              6\n",
       "Max.Humidity                   0\n",
       "Max.Sea.Level.PressureIn       0\n",
       "Max.TemperatureF               0\n",
       "Max.VisibilityMiles            0\n",
       "Max.Wind.SpeedMPH              0\n",
       "Mean.Humidity                  0\n",
       "Mean.Sea.Level.PressureIn      0\n",
       "Mean.TemperatureF              0\n",
       "Mean.VisibilityMiles           0\n",
       "Mean.Wind.SpeedMPH             0\n",
       "MeanDew.PointF                 0\n",
       "Min.DewpointF                  0\n",
       "Min.Humidity                   0\n",
       "Min.Sea.Level.PressureIn       0\n",
       "Min.TemperatureF               0\n",
       "Min.VisibilityMiles            0\n",
       "PrecipitationIn               49\n",
       "WindDirDegrees                 0\n",
       "Date                           0\n",
       "dtype: int64"
      ]
     },
     "execution_count": 8,
     "metadata": {},
     "output_type": "execute_result"
    }
   ],
   "source": [
    "df.isna().sum()"
   ]
  },
  {
   "cell_type": "markdown",
   "metadata": {},
   "source": [
    "Let's look at the values of the numeric columns to identify some obvious problems. "
   ]
  },
  {
   "cell_type": "code",
   "execution_count": 9,
   "metadata": {},
   "outputs": [],
   "source": [
    "#exclude date and events column\n",
    "plot_data = df.loc[:, ~df.columns.isin(['Date', 'Events'])]"
   ]
  },
  {
   "cell_type": "code",
   "execution_count": 10,
   "metadata": {},
   "outputs": [
    {
     "data": {
      "image/png": "[encoded data removed]",
      "text/plain": [
       "<Figure size 1368x576 with 1 Axes>"
      ]
     },
     "metadata": {
      "needs_background": "light"
     },
     "output_type": "display_data"
    }
   ],
   "source": [
    "fig, ax = plt.subplots(figsize=(19, 8))\n",
    "sns.boxplot(data = plot_data, ax=ax) \n",
    "plt.xticks(rotation=90);"
   ]
  },
  {
   "cell_type": "markdown",
   "metadata": {},
   "source": [
    "Clearly there is a mistake with that single datapoint in `Max.Humidity`. It was probably supposed to be a 100 instead of a 1000. Let's fix that and redraw the plot. Also let's exclude the `WindDirDegrees` column since it appears to be correct (all values 0-360 represented). "
   ]
  },
  {
   "cell_type": "code",
   "execution_count": 11,
   "metadata": {},
   "outputs": [
    {
     "name": "stderr",
     "output_type": "stream",
     "text": [
      "C:\\Users\\tooba\\Anaconda3\\lib\\site-packages\\ipykernel_launcher.py:1: SettingWithCopyWarning: \n",
      "A value is trying to be set on a copy of a slice from a DataFrame\n",
      "\n",
      "See the caveats in the documentation: http://pandas.pydata.org/pandas-docs/stable/indexing.html#indexing-view-versus-copy\n",
      "  \"\"\"Entry point for launching an IPython kernel.\n"
     ]
    }
   ],
   "source": [
    "df['Max.Humidity'][df['Max.Humidity'].idxmax()] = 100"
   ]
  },
  {
   "cell_type": "code",
   "execution_count": 12,
   "metadata": {},
   "outputs": [],
   "source": [
    "#exclude date,events and WindDirDegrees\n",
    "plot_data = df.loc[:, ~df.columns.isin(['Date', 'Events', 'WindDirDegrees'])]"
   ]
  },
  {
   "cell_type": "code",
   "execution_count": 13,
   "metadata": {},
   "outputs": [
    {
     "data": {
      "image/png": "[encoded data removed]",
      "text/plain": [
       "<Figure size 1368x576 with 1 Axes>"
      ]
     },
     "metadata": {
      "needs_background": "light"
     },
     "output_type": "display_data"
    }
   ],
   "source": [
    "fig, ax = plt.subplots(figsize=(19, 8))\n",
    "sns.boxplot(data = plot_data, ax=ax) \n",
    "plt.xticks(rotation=90);"
   ]
  },
  {
   "cell_type": "markdown",
   "metadata": {},
   "source": [
    "We can see that `Max.Gust.SpeedMPH` is right skewed so using the median to impute the missing values is the best option here. "
   ]
  },
  {
   "cell_type": "code",
   "execution_count": 14,
   "metadata": {},
   "outputs": [],
   "source": [
    "med = df['Max.Gust.SpeedMPH'].median()\n",
    "df['Max.Gust.SpeedMPH'].fillna(med, inplace=True)"
   ]
  },
  {
   "cell_type": "markdown",
   "metadata": {},
   "source": [
    "`PrecipitationIn` has missing values and due to the scale we can't see its distribution. Let's make a separate plot. "
   ]
  },
  {
   "cell_type": "code",
   "execution_count": 15,
   "metadata": {},
   "outputs": [
    {
     "data": {
      "text/plain": [
       "<matplotlib.axes._subplots.AxesSubplot at 0x21bef04e5f8>"
      ]
     },
     "execution_count": 15,
     "metadata": {},
     "output_type": "execute_result"
    },
    {
     "data": {
      "image/png": "[encoded data removed]",
      "text/plain": [
       "<Figure size 432x288 with 1 Axes>"
      ]
     },
     "metadata": {
      "needs_background": "light"
     },
     "output_type": "display_data"
    }
   ],
   "source": [
    "sns.boxplot(data = df['PrecipitationIn']) "
   ]
  },
  {
   "cell_type": "markdown",
   "metadata": {},
   "source": [
    "Clearly we need to use median to inpute here too."
   ]
  },
  {
   "cell_type": "code",
   "execution_count": 16,
   "metadata": {},
   "outputs": [],
   "source": [
    "med = df['PrecipitationIn'].median()\n",
    "df['PrecipitationIn'].fillna(med, inplace=True)"
   ]
  },
  {
   "cell_type": "markdown",
   "metadata": {},
   "source": [
    "Also we can see that `Mean.VisibilityMiles` and `PrecipitationIn` maybe have some points below 0 (hard to see for sure because of the scale of the plot). And we know that these two quantities should always be non-negative."
   ]
  },
  {
   "cell_type": "code",
   "execution_count": 17,
   "metadata": {},
   "outputs": [
    {
     "data": {
      "text/html": [
       "<div>\n",
       "<style scoped>\n",
       "    .dataframe tbody tr th:only-of-type {\n",
       "        vertical-align: middle;\n",
       "    }\n",
       "\n",
       "    .dataframe tbody tr th {\n",
       "        vertical-align: top;\n",
       "    }\n",
       "\n",
       "    .dataframe thead th {\n",
       "        text-align: right;\n",
       "    }\n",
       "</style>\n",
       "<table border=\"1\" class=\"dataframe\">\n",
       "  <thead>\n",
       "    <tr style=\"text-align: right;\">\n",
       "      <th></th>\n",
       "      <th>Min.VisibilityMiles</th>\n",
       "      <th>Mean.VisibilityMiles</th>\n",
       "      <th>Max.VisibilityMiles</th>\n",
       "    </tr>\n",
       "  </thead>\n",
       "  <tbody>\n",
       "    <tr>\n",
       "      <th>199</th>\n",
       "      <td>10.0</td>\n",
       "      <td>-1.0</td>\n",
       "      <td>10.0</td>\n",
       "    </tr>\n",
       "  </tbody>\n",
       "</table>\n",
       "</div>"
      ],
      "text/plain": [
       "     Min.VisibilityMiles  Mean.VisibilityMiles  Max.VisibilityMiles\n",
       "199                 10.0                  -1.0                 10.0"
      ]
     },
     "execution_count": 17,
     "metadata": {},
     "output_type": "execute_result"
    }
   ],
   "source": [
    "df[['Min.VisibilityMiles','Mean.VisibilityMiles','Max.VisibilityMiles']][df['Mean.VisibilityMiles'] < 0]"
   ]
  },
  {
   "cell_type": "markdown",
   "metadata": {},
   "source": [
    "There is 1 negative value (-1) in the `Mean.VisibilityMiles` column. It's slightly tricky to fix problems like this in a general case but luckily here we have the min and max values of the same variable (visibility) so we can easily figure out a replcament value. "
   ]
  },
  {
   "cell_type": "code",
   "execution_count": 18,
   "metadata": {},
   "outputs": [
    {
     "name": "stderr",
     "output_type": "stream",
     "text": [
      "C:\\Users\\tooba\\Anaconda3\\lib\\site-packages\\ipykernel_launcher.py:1: SettingWithCopyWarning: \n",
      "A value is trying to be set on a copy of a slice from a DataFrame\n",
      "\n",
      "See the caveats in the documentation: http://pandas.pydata.org/pandas-docs/stable/indexing.html#indexing-view-versus-copy\n",
      "  \"\"\"Entry point for launching an IPython kernel.\n"
     ]
    }
   ],
   "source": [
    "df['Mean.VisibilityMiles'][df['Mean.VisibilityMiles'] < 0] = 10"
   ]
  },
  {
   "cell_type": "markdown",
   "metadata": {},
   "source": [
    "Now let's finally figure out the missing values in `Events`. The absense of an entry in this column can mean that there were no special weather events that day. Now we can also fix the datatype. "
   ]
  },
  {
   "cell_type": "code",
   "execution_count": 19,
   "metadata": {},
   "outputs": [
    {
     "data": {
      "text/plain": [
       "'Rain'                          90\n",
       "'Snow'                          31\n",
       "'Rain-Snow'                     10\n",
       "'Fog-Rain'                       8\n",
       "'Fog-Snow'                       7\n",
       "'Fog'                            6\n",
       "'Fog-Rain-Snow'                  4\n",
       "'Rain-Thunderstorm'              4\n",
       "'Fog-Rain-Thunderstorm'          3\n",
       "'Thunderstorm'                   1\n",
       "'Fog-Rain-Hail-Thunderstorm'     1\n",
       "Name: Events, dtype: int64"
      ]
     },
     "execution_count": 19,
     "metadata": {},
     "output_type": "execute_result"
    }
   ],
   "source": [
    "df['Events'].value_counts()"
   ]
  },
  {
   "cell_type": "code",
   "execution_count": 20,
   "metadata": {},
   "outputs": [
    {
     "name": "stderr",
     "output_type": "stream",
     "text": [
      "C:\\Users\\tooba\\Anaconda3\\lib\\site-packages\\ipykernel_launcher.py:4: SettingWithCopyWarning: \n",
      "A value is trying to be set on a copy of a slice from a DataFrame\n",
      "\n",
      "See the caveats in the documentation: http://pandas.pydata.org/pandas-docs/stable/indexing.html#indexing-view-versus-copy\n",
      "  after removing the cwd from sys.path.\n"
     ]
    }
   ],
   "source": [
    "#removing quotes\n",
    "df['Events'] = df['Events'].str[1:-1]\n",
    "# replacing Nan values with 'None'\n",
    "df['Events'][df['Events'].isna()] = 'None'\n",
    "#convert to categorical type\n",
    "df['Events'] = df['Events'].astype('category')"
   ]
  },
  {
   "cell_type": "code",
   "execution_count": 21,
   "metadata": {},
   "outputs": [
    {
     "data": {
      "text/plain": [
       "None                          201\n",
       "Rain                           90\n",
       "Snow                           31\n",
       "Rain-Snow                      10\n",
       "Fog-Rain                        8\n",
       "Fog-Snow                        7\n",
       "Fog                             6\n",
       "Rain-Thunderstorm               4\n",
       "Fog-Rain-Snow                   4\n",
       "Fog-Rain-Thunderstorm           3\n",
       "Thunderstorm                    1\n",
       "Fog-Rain-Hail-Thunderstorm      1\n",
       "Name: Events, dtype: int64"
      ]
     },
     "execution_count": 21,
     "metadata": {},
     "output_type": "execute_result"
    }
   ],
   "source": [
    "df['Events'].value_counts()"
   ]
  },
  {
   "cell_type": "code",
   "execution_count": 22,
   "metadata": {},
   "outputs": [
    {
     "data": {
      "text/plain": [
       "0"
      ]
     },
     "execution_count": 22,
     "metadata": {},
     "output_type": "execute_result"
    }
   ],
   "source": [
    "df.isna().sum().sum()"
   ]
  },
  {
   "cell_type": "markdown",
   "metadata": {},
   "source": [
    "Let's take a look at our final cleaned dataset before saving it for analysis. We will save it as a 'pickle', a binary file format which will preserve out column types. Text-based file formats like csv and json do not preserve column data types. "
   ]
  },
  {
   "cell_type": "code",
   "execution_count": 23,
   "metadata": {},
   "outputs": [
    {
     "data": {
      "text/html": [
       "<div>\n",
       "<style scoped>\n",
       "    .dataframe tbody tr th:only-of-type {\n",
       "        vertical-align: middle;\n",
       "    }\n",
       "\n",
       "    .dataframe tbody tr th {\n",
       "        vertical-align: top;\n",
       "    }\n",
       "\n",
       "    .dataframe thead th {\n",
       "        text-align: right;\n",
       "    }\n",
       "</style>\n",
       "<table border=\"1\" class=\"dataframe\">\n",
       "  <thead>\n",
       "    <tr style=\"text-align: right;\">\n",
       "      <th></th>\n",
       "      <th>CloudCover</th>\n",
       "      <th>Events</th>\n",
       "      <th>Max.Dew.PointF</th>\n",
       "      <th>Max.Gust.SpeedMPH</th>\n",
       "      <th>Max.Humidity</th>\n",
       "      <th>Max.Sea.Level.PressureIn</th>\n",
       "      <th>Max.TemperatureF</th>\n",
       "      <th>Max.VisibilityMiles</th>\n",
       "      <th>Max.Wind.SpeedMPH</th>\n",
       "      <th>Mean.Humidity</th>\n",
       "      <th>...</th>\n",
       "      <th>Mean.Wind.SpeedMPH</th>\n",
       "      <th>MeanDew.PointF</th>\n",
       "      <th>Min.DewpointF</th>\n",
       "      <th>Min.Humidity</th>\n",
       "      <th>Min.Sea.Level.PressureIn</th>\n",
       "      <th>Min.TemperatureF</th>\n",
       "      <th>Min.VisibilityMiles</th>\n",
       "      <th>PrecipitationIn</th>\n",
       "      <th>WindDirDegrees</th>\n",
       "      <th>Date</th>\n",
       "    </tr>\n",
       "  </thead>\n",
       "  <tbody>\n",
       "    <tr>\n",
       "      <th>0</th>\n",
       "      <td>6.0</td>\n",
       "      <td>Rain</td>\n",
       "      <td>46.0</td>\n",
       "      <td>29.0</td>\n",
       "      <td>74.0</td>\n",
       "      <td>30.45</td>\n",
       "      <td>64.0</td>\n",
       "      <td>10.0</td>\n",
       "      <td>22.0</td>\n",
       "      <td>63.0</td>\n",
       "      <td>...</td>\n",
       "      <td>13.0</td>\n",
       "      <td>40.0</td>\n",
       "      <td>26.0</td>\n",
       "      <td>52.0</td>\n",
       "      <td>30.01</td>\n",
       "      <td>39.0</td>\n",
       "      <td>10.0</td>\n",
       "      <td>0.01</td>\n",
       "      <td>268.0</td>\n",
       "      <td>2014-12-01</td>\n",
       "    </tr>\n",
       "    <tr>\n",
       "      <th>1</th>\n",
       "      <td>7.0</td>\n",
       "      <td>Rain-Snow</td>\n",
       "      <td>40.0</td>\n",
       "      <td>29.0</td>\n",
       "      <td>92.0</td>\n",
       "      <td>30.71</td>\n",
       "      <td>42.0</td>\n",
       "      <td>10.0</td>\n",
       "      <td>24.0</td>\n",
       "      <td>72.0</td>\n",
       "      <td>...</td>\n",
       "      <td>15.0</td>\n",
       "      <td>27.0</td>\n",
       "      <td>17.0</td>\n",
       "      <td>51.0</td>\n",
       "      <td>30.40</td>\n",
       "      <td>33.0</td>\n",
       "      <td>2.0</td>\n",
       "      <td>0.10</td>\n",
       "      <td>62.0</td>\n",
       "      <td>2014-12-02</td>\n",
       "    </tr>\n",
       "    <tr>\n",
       "      <th>2</th>\n",
       "      <td>8.0</td>\n",
       "      <td>Rain</td>\n",
       "      <td>49.0</td>\n",
       "      <td>38.0</td>\n",
       "      <td>100.0</td>\n",
       "      <td>30.40</td>\n",
       "      <td>51.0</td>\n",
       "      <td>10.0</td>\n",
       "      <td>29.0</td>\n",
       "      <td>79.0</td>\n",
       "      <td>...</td>\n",
       "      <td>12.0</td>\n",
       "      <td>42.0</td>\n",
       "      <td>24.0</td>\n",
       "      <td>57.0</td>\n",
       "      <td>29.87</td>\n",
       "      <td>37.0</td>\n",
       "      <td>1.0</td>\n",
       "      <td>0.44</td>\n",
       "      <td>254.0</td>\n",
       "      <td>2014-12-03</td>\n",
       "    </tr>\n",
       "    <tr>\n",
       "      <th>3</th>\n",
       "      <td>3.0</td>\n",
       "      <td>None</td>\n",
       "      <td>24.0</td>\n",
       "      <td>33.0</td>\n",
       "      <td>69.0</td>\n",
       "      <td>30.56</td>\n",
       "      <td>43.0</td>\n",
       "      <td>10.0</td>\n",
       "      <td>25.0</td>\n",
       "      <td>54.0</td>\n",
       "      <td>...</td>\n",
       "      <td>12.0</td>\n",
       "      <td>21.0</td>\n",
       "      <td>13.0</td>\n",
       "      <td>39.0</td>\n",
       "      <td>30.09</td>\n",
       "      <td>30.0</td>\n",
       "      <td>10.0</td>\n",
       "      <td>0.00</td>\n",
       "      <td>292.0</td>\n",
       "      <td>2014-12-04</td>\n",
       "    </tr>\n",
       "    <tr>\n",
       "      <th>4</th>\n",
       "      <td>5.0</td>\n",
       "      <td>Rain</td>\n",
       "      <td>37.0</td>\n",
       "      <td>26.0</td>\n",
       "      <td>85.0</td>\n",
       "      <td>30.68</td>\n",
       "      <td>42.0</td>\n",
       "      <td>10.0</td>\n",
       "      <td>22.0</td>\n",
       "      <td>66.0</td>\n",
       "      <td>...</td>\n",
       "      <td>10.0</td>\n",
       "      <td>25.0</td>\n",
       "      <td>12.0</td>\n",
       "      <td>47.0</td>\n",
       "      <td>30.45</td>\n",
       "      <td>26.0</td>\n",
       "      <td>5.0</td>\n",
       "      <td>0.11</td>\n",
       "      <td>61.0</td>\n",
       "      <td>2014-12-05</td>\n",
       "    </tr>\n",
       "  </tbody>\n",
       "</table>\n",
       "<p>5 rows × 23 columns</p>\n",
       "</div>"
      ],
      "text/plain": [
       "   CloudCover     Events  Max.Dew.PointF  Max.Gust.SpeedMPH  Max.Humidity  \\\n",
       "0         6.0       Rain            46.0               29.0          74.0   \n",
       "1         7.0  Rain-Snow            40.0               29.0          92.0   \n",
       "2         8.0       Rain            49.0               38.0         100.0   \n",
       "3         3.0       None            24.0               33.0          69.0   \n",
       "4         5.0       Rain            37.0               26.0          85.0   \n",
       "\n",
       "   Max.Sea.Level.PressureIn  Max.TemperatureF  Max.VisibilityMiles  \\\n",
       "0                     30.45              64.0                 10.0   \n",
       "1                     30.71              42.0                 10.0   \n",
       "2                     30.40              51.0                 10.0   \n",
       "3                     30.56              43.0                 10.0   \n",
       "4                     30.68              42.0                 10.0   \n",
       "\n",
       "   Max.Wind.SpeedMPH  Mean.Humidity    ...      Mean.Wind.SpeedMPH  \\\n",
       "0               22.0           63.0    ...                    13.0   \n",
       "1               24.0           72.0    ...                    15.0   \n",
       "2               29.0           79.0    ...                    12.0   \n",
       "3               25.0           54.0    ...                    12.0   \n",
       "4               22.0           66.0    ...                    10.0   \n",
       "\n",
       "   MeanDew.PointF  Min.DewpointF  Min.Humidity  Min.Sea.Level.PressureIn  \\\n",
       "0            40.0           26.0          52.0                     30.01   \n",
       "1            27.0           17.0          51.0                     30.40   \n",
       "2            42.0           24.0          57.0                     29.87   \n",
       "3            21.0           13.0          39.0                     30.09   \n",
       "4            25.0           12.0          47.0                     30.45   \n",
       "\n",
       "   Min.TemperatureF  Min.VisibilityMiles  PrecipitationIn  WindDirDegrees  \\\n",
       "0              39.0                 10.0             0.01           268.0   \n",
       "1              33.0                  2.0             0.10            62.0   \n",
       "2              37.0                  1.0             0.44           254.0   \n",
       "3              30.0                 10.0             0.00           292.0   \n",
       "4              26.0                  5.0             0.11            61.0   \n",
       "\n",
       "        Date  \n",
       "0 2014-12-01  \n",
       "1 2014-12-02  \n",
       "2 2014-12-03  \n",
       "3 2014-12-04  \n",
       "4 2014-12-05  \n",
       "\n",
       "[5 rows x 23 columns]"
      ]
     },
     "execution_count": 23,
     "metadata": {},
     "output_type": "execute_result"
    }
   ],
   "source": [
    "df.head()"
   ]
  },
  {
   "cell_type": "code",
   "execution_count": 24,
   "metadata": {},
   "outputs": [],
   "source": [
    "df.to_pickle('weather_clean.pkl')"
   ]
  }
 ],
 "metadata": {
  "kernelspec": {
   "display_name": "Python 3",
   "language": "python",
   "name": "python3"
  },
  "language_info": {
   "codemirror_mode": {
    "name": "ipython",
    "version": 3
   },
   "file_extension": ".py",
   "mimetype": "text/x-python",
   "name": "python",
   "nbconvert_exporter": "python",
   "pygments_lexer": "ipython3",
   "version": "3.8.8"
  },
  "widgets": {
   "application/vnd.jupyter.widget-state+json": {
    "state": {},
    "version_major": 2,
    "version_minor": 0
   }
  }
 },
 "nbformat": 4,
 "nbformat_minor": 4
}
